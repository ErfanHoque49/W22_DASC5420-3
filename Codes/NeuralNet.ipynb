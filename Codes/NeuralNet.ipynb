{
 "cells": [
  {
   "cell_type": "markdown",
   "metadata": {},
   "source": [
    "<a id = 'intro'></a>\n",
    "# Boston data analysis using neural network"
   ]
  },
  {
   "cell_type": "markdown",
   "metadata": {},
   "source": [
    "Here, we will develop, evaluate and compare the performance and predictive power of a simple linear regression model and neural network on boston housing price data\n",
    "\n",
    "Here the target is to determine the price of the property based on the features"
   ]
  },
  {
   "cell_type": "markdown",
   "metadata": {},
   "source": [
    "# Dataset"
   ]
  },
  {
   "cell_type": "markdown",
   "metadata": {},
   "source": [
    "The dataset used in the anlysis comes from the UCI Machine Learning Repository. This data was collected in 1978 and each of the 506 entries represents aggregate information about 14 features of homes from various suburbs located in Boston.\n",
    "\n",
    "The features can be summarized as follows:\n",
    "* CRIM: This is the per capita crime rate by town\n",
    "* ZN: This is the proportion of residential land zoned for lots larger than 25,000 sq.ft.\n",
    "* INDUS: This is the proportion of non-retail business acres per town.\n",
    "* CHAS: This is the Charles River dummy variable (this is equal to 1 if tract bounds river; 0 otherwise)\n",
    "* NOX: This is the nitric oxides concentration (parts per 10 million)\n",
    "* RM: This is the average number of rooms per dwelling\n",
    "* AGE: This is the proportion of owner-occupied units built prior to 1940\n",
    "* DIS: This is the weighted distances to five Boston employment centers\n",
    "* RAD: This is the index of accessibility to radial highways\n",
    "* TAX: This is the full-value property-tax rate per 1000 bucks\n",
    "* PTRATIO: This is the pupil-teacher ratio by town\n",
    "* B: This is calculated as 1000(Bk — 0.63)², where Bk is the proportion of people of African American descent by town\n",
    "* LSTAT: This is the percentage lower status of the population\n",
    "* MEDV: This is the median value of owner-occupied homes in 1000s"
   ]
  },
  {
   "cell_type": "markdown",
   "metadata": {},
   "source": [
    "<a id = 'library'></a>\n",
    "# Importing libraries and the dataset"
   ]
  },
  {
   "cell_type": "code",
   "execution_count": 1,
   "metadata": {
    "_cell_guid": "b1076dfc-b9ad-4769-8c92-a6c4dae69d19",
    "_uuid": "8f2839f25d086af736a60e9eeb907d3b93b6e0e5",
    "execution": {
     "iopub.execute_input": "2022-04-20T04:16:58.447938Z",
     "iopub.status.busy": "2022-04-20T04:16:58.447472Z",
     "iopub.status.idle": "2022-04-20T04:16:58.453521Z",
     "shell.execute_reply": "2022-04-20T04:16:58.451884Z",
     "shell.execute_reply.started": "2022-04-20T04:16:58.447886Z"
    }
   },
   "outputs": [],
   "source": [
    "#Importing the pandas for data processing and numpy for numerical computing\n",
    "import numpy as np\n",
    "import pandas as pd"
   ]
  },
  {
   "cell_type": "code",
   "execution_count": 2,
   "metadata": {
    "execution": {
     "iopub.execute_input": "2022-04-20T04:16:58.462356Z",
     "iopub.status.busy": "2022-04-20T04:16:58.461566Z",
     "iopub.status.idle": "2022-04-20T04:16:58.479603Z",
     "shell.execute_reply": "2022-04-20T04:16:58.477781Z",
     "shell.execute_reply.started": "2022-04-20T04:16:58.462306Z"
    }
   },
   "outputs": [],
   "source": [
    "# Importing the Boston Housing dataset from the sklearn\n",
    "from sklearn.datasets import load_boston\n",
    "boston = load_boston()"
   ]
  },
  {
   "cell_type": "code",
   "execution_count": 3,
   "metadata": {
    "execution": {
     "iopub.execute_input": "2022-04-20T04:16:58.483751Z",
     "iopub.status.busy": "2022-04-20T04:16:58.483107Z",
     "iopub.status.idle": "2022-04-20T04:16:58.492692Z",
     "shell.execute_reply": "2022-04-20T04:16:58.491059Z",
     "shell.execute_reply.started": "2022-04-20T04:16:58.483690Z"
    }
   },
   "outputs": [],
   "source": [
    "#Converting the data into pandas dataframe\n",
    "data = pd.DataFrame(boston.data)"
   ]
  },
  {
   "cell_type": "markdown",
   "metadata": {},
   "source": [
    "### Look at the dataset"
   ]
  },
  {
   "cell_type": "code",
   "execution_count": 5,
   "metadata": {
    "execution": {
     "iopub.execute_input": "2022-04-20T04:16:58.565814Z",
     "iopub.status.busy": "2022-04-20T04:16:58.565273Z",
     "iopub.status.idle": "2022-04-20T04:16:58.574529Z",
     "shell.execute_reply": "2022-04-20T04:16:58.573205Z",
     "shell.execute_reply.started": "2022-04-20T04:16:58.565761Z"
    }
   },
   "outputs": [],
   "source": [
    "#Adding the feature names to the dataframe\n",
    "data.columns = boston.feature_names"
   ]
  },
  {
   "cell_type": "code",
   "execution_count": 6,
   "metadata": {
    "execution": {
     "iopub.execute_input": "2022-04-20T04:16:58.581092Z",
     "iopub.status.busy": "2022-04-20T04:16:58.580119Z",
     "iopub.status.idle": "2022-04-20T04:16:58.591600Z",
     "shell.execute_reply": "2022-04-20T04:16:58.589983Z",
     "shell.execute_reply.started": "2022-04-20T04:16:58.581030Z"
    }
   },
   "outputs": [],
   "source": [
    "#Adding the target variable to the dataset\n",
    "data['PRICE'] = boston.target "
   ]
  },
  {
   "cell_type": "code",
   "execution_count": 8,
   "metadata": {
    "execution": {
     "iopub.execute_input": "2022-04-20T04:16:58.655538Z",
     "iopub.status.busy": "2022-04-20T04:16:58.654891Z",
     "iopub.status.idle": "2022-04-20T04:16:58.663401Z",
     "shell.execute_reply": "2022-04-20T04:16:58.660492Z",
     "shell.execute_reply.started": "2022-04-20T04:16:58.655479Z"
    }
   },
   "outputs": [
    {
     "name": "stdout",
     "output_type": "stream",
     "text": [
      "(506, 14)\n"
     ]
    }
   ],
   "source": [
    "#Length of the data\n",
    "print(data.shape)"
   ]
  },
  {
   "cell_type": "markdown",
   "metadata": {},
   "source": [
    "<a id = 'visual'></a>\n",
    "# Visualisation"
   ]
  },
  {
   "cell_type": "markdown",
   "metadata": {},
   "source": [
    "The distribution seems normal, has not be the data normal we would have perform log transformation or took to square root of the data to make the data normal. Normal distribution is need for the machine learning for better predictiblity of the model"
   ]
  },
  {
   "cell_type": "markdown",
   "metadata": {},
   "source": [
    "<a id = 'split'></a>\n",
    "### Splitting the dependent feature and independent feature "
   ]
  },
  {
   "cell_type": "code",
   "execution_count": 13,
   "metadata": {
    "execution": {
     "iopub.execute_input": "2022-04-20T04:17:00.679458Z",
     "iopub.status.busy": "2022-04-20T04:17:00.679029Z",
     "iopub.status.idle": "2022-04-20T04:17:00.685490Z",
     "shell.execute_reply": "2022-04-20T04:17:00.684451Z",
     "shell.execute_reply.started": "2022-04-20T04:17:00.679415Z"
    }
   },
   "outputs": [],
   "source": [
    "#X = data[['LSTAT','RM','PTRATIO']]\n",
    "X = data.iloc[:,:-1]\n",
    "y= data.PRICE"
   ]
  },
  {
   "cell_type": "markdown",
   "metadata": {},
   "source": [
    "<a id = 'valid'></a>\n",
    "### Splitting the data for Model Validation "
   ]
  },
  {
   "cell_type": "code",
   "execution_count": 14,
   "metadata": {
    "execution": {
     "iopub.execute_input": "2022-04-20T04:17:00.688331Z",
     "iopub.status.busy": "2022-04-20T04:17:00.687553Z",
     "iopub.status.idle": "2022-04-20T04:17:00.756098Z",
     "shell.execute_reply": "2022-04-20T04:17:00.755045Z",
     "shell.execute_reply.started": "2022-04-20T04:17:00.688222Z"
    }
   },
   "outputs": [],
   "source": [
    "# Splitting the data into train and test for building the model\n",
    "from sklearn.model_selection import train_test_split\n",
    "X_train, X_test, y_train, y_test = train_test_split(X,y, test_size = 0.2, random_state = 4)"
   ]
  },
  {
   "cell_type": "markdown",
   "metadata": {},
   "source": [
    "<a id = 'build'></a>\n",
    "### Building the Model "
   ]
  },
  {
   "cell_type": "code",
   "execution_count": 15,
   "metadata": {
    "execution": {
     "iopub.execute_input": "2022-04-20T04:17:00.758759Z",
     "iopub.status.busy": "2022-04-20T04:17:00.758052Z",
     "iopub.status.idle": "2022-04-20T04:17:00.846440Z",
     "shell.execute_reply": "2022-04-20T04:17:00.845448Z",
     "shell.execute_reply.started": "2022-04-20T04:17:00.758707Z"
    }
   },
   "outputs": [],
   "source": [
    "#Linear Regression \n",
    "from sklearn.linear_model import LinearRegression\n",
    "regressor = LinearRegression()"
   ]
  },
  {
   "cell_type": "markdown",
   "metadata": {},
   "source": [
    "<a id = 'evaluate'></a>\n",
    "### Model Evaluation"
   ]
  },
  {
   "cell_type": "code",
   "execution_count": 17,
   "metadata": {
    "execution": {
     "iopub.execute_input": "2022-04-20T04:17:00.904120Z",
     "iopub.status.busy": "2022-04-20T04:17:00.903626Z",
     "iopub.status.idle": "2022-04-20T04:17:00.911888Z",
     "shell.execute_reply": "2022-04-20T04:17:00.910263Z",
     "shell.execute_reply.started": "2022-04-20T04:17:00.904077Z"
    }
   },
   "outputs": [],
   "source": [
    "#Prediction on the test dataset\n",
    "y_pred = regressor.predict(X_test)"
   ]
  },
  {
   "cell_type": "code",
   "execution_count": 18,
   "metadata": {
    "execution": {
     "iopub.execute_input": "2022-04-20T04:17:00.914557Z",
     "iopub.status.busy": "2022-04-20T04:17:00.914053Z",
     "iopub.status.idle": "2022-04-20T04:17:00.925701Z",
     "shell.execute_reply": "2022-04-20T04:17:00.924807Z",
     "shell.execute_reply.started": "2022-04-20T04:17:00.914416Z"
    }
   },
   "outputs": [
    {
     "name": "stdout",
     "output_type": "stream",
     "text": [
      "5.041784121402046\n"
     ]
    }
   ],
   "source": [
    "# Predicting RMSE the Test set results\n",
    "from sklearn.metrics import mean_squared_error\n",
    "rmse = (np.sqrt(mean_squared_error(y_test, y_pred)))\n",
    "print(rmse)"
   ]
  },
  {
   "cell_type": "code",
   "execution_count": 19,
   "metadata": {
    "execution": {
     "iopub.execute_input": "2022-04-20T04:17:00.927438Z",
     "iopub.status.busy": "2022-04-20T04:17:00.926845Z",
     "iopub.status.idle": "2022-04-20T04:17:00.941860Z",
     "shell.execute_reply": "2022-04-20T04:17:00.940970Z",
     "shell.execute_reply.started": "2022-04-20T04:17:00.927375Z"
    }
   },
   "outputs": [
    {
     "name": "stdout",
     "output_type": "stream",
     "text": [
      "0.7263451459702516\n"
     ]
    }
   ],
   "source": [
    "from sklearn.metrics import r2_score\n",
    "r2 = r2_score(y_test, y_pred)\n",
    "print(r2)"
   ]
  },
  {
   "cell_type": "markdown",
   "metadata": {},
   "source": [
    "<a id  = 'NN'></a>\n",
    "## Feed Forward Neural Networks"
   ]
  },
  {
   "cell_type": "code",
   "execution_count": 20,
   "metadata": {
    "execution": {
     "iopub.execute_input": "2022-04-20T04:17:00.943962Z",
     "iopub.status.busy": "2022-04-20T04:17:00.943352Z",
     "iopub.status.idle": "2022-04-20T04:17:00.962132Z",
     "shell.execute_reply": "2022-04-20T04:17:00.961106Z",
     "shell.execute_reply.started": "2022-04-20T04:17:00.943888Z"
    }
   },
   "outputs": [],
   "source": [
    "#Scaling the dataset\n",
    "from sklearn.preprocessing import StandardScaler\n",
    "sc = StandardScaler()\n",
    "X_train = sc.fit_transform(X_train)\n",
    "X_test = sc.transform(X_test)"
   ]
  },
  {
   "cell_type": "markdown",
   "metadata": {},
   "source": [
    "* We are using Keras for developing the neural network.\n",
    "* Models in Keras are defined as a sequence of layers\n",
    "* We create a Sequential model and add layers one at a time with activation function\n",
    "* Activation function decides, whether a neuron should be activated or not by calculating weighted sum and further adding bias with it. The purpose of the activation function is to introduce non-linearity into the output of a neuron.The activation we are using is relu\n",
    "* As this is a regression problem, the output layer has no activation function\n",
    "* Elements of neural network has input layer, hidden layer and output layer\n",
    "* Model Compilation:- The compilation is the final step in creating a model. Once the compilation is done, we can move on to training phase.\n",
    "* Optimizer: - (Backpropagation) The optimizer we are using is adam. \"Adam\" is an optimization algorithm that can be used instead of the classical stochastic gradient descent (SGD) procedure to update network weights iterative based in training data.\n",
    "* Loss - mean square error"
   ]
  },
  {
   "cell_type": "code",
   "execution_count": null,
   "metadata": {},
   "outputs": [],
   "source": [
    "#Creating the neural network model\n",
    "import keras\n",
    "from keras.layers import Dense, Activation,Dropout\n",
    "from keras.models import Sequential\n",
    "\n",
    "model = Sequential()\n",
    "\n",
    "model.add(Dense(128,activation  = 'relu',input_dim =13))\n",
    "model.add(Dense(64,activation  = 'relu'))\n",
    "model.add(Dense(32,activation  = 'relu'))\n",
    "model.add(Dense(16,activation  = 'relu'))\n",
    "model.add(Dense(1))\n",
    "model.compile(optimizer = 'adam',loss = 'mean_squared_error')"
   ]
  },
  {
   "cell_type": "markdown",
   "metadata": {},
   "source": [
    "<a id = 'eval'></a>\n",
    "### Evaluation of the model"
   ]
  },
  {
   "cell_type": "code",
   "execution_count": 32,
   "metadata": {
    "execution": {
     "iopub.execute_input": "2022-04-20T04:17:05.947538Z",
     "iopub.status.busy": "2022-04-20T04:17:05.946964Z",
     "iopub.status.idle": "2022-04-20T04:17:06.202617Z",
     "shell.execute_reply": "2022-04-20T04:17:06.201459Z",
     "shell.execute_reply.started": "2022-04-20T04:17:05.947496Z"
    }
   },
   "outputs": [],
   "source": [
    "y_pred = model.predict(X_test)"
   ]
  },
  {
   "cell_type": "code",
   "execution_count": 33,
   "metadata": {
    "execution": {
     "iopub.execute_input": "2022-04-20T04:17:06.210701Z",
     "iopub.status.busy": "2022-04-20T04:17:06.208016Z",
     "iopub.status.idle": "2022-04-20T04:17:06.224654Z",
     "shell.execute_reply": "2022-04-20T04:17:06.223237Z",
     "shell.execute_reply.started": "2022-04-20T04:17:06.210645Z"
    }
   },
   "outputs": [],
   "source": [
    "from sklearn.metrics import r2_score\n",
    "r2 = r2_score(y_test, y_pred)\n",
    "print(r2)"
   ]
  },
  {
   "cell_type": "code",
   "execution_count": 34,
   "metadata": {
    "execution": {
     "iopub.execute_input": "2022-04-20T04:17:06.233412Z",
     "iopub.status.busy": "2022-04-20T04:17:06.230626Z",
     "iopub.status.idle": "2022-04-20T04:17:06.246360Z",
     "shell.execute_reply": "2022-04-20T04:17:06.245018Z",
     "shell.execute_reply.started": "2022-04-20T04:17:06.233355Z"
    }
   },
   "outputs": [],
   "source": [
    "# Predicting RMSE the Test set results\n",
    "from sklearn.metrics import mean_squared_error\n",
    "rmse = (np.sqrt(mean_squared_error(y_test, y_pred)))\n",
    "print(rmse)"
   ]
  },
  {
   "cell_type": "markdown",
   "metadata": {},
   "source": [
    "<a id = 'conclude'></a>\n",
    "## Conclusion\n",
    "\n",
    "Using a simple neural network, we were able to improve the model significantly."
   ]
  }
 ],
 "metadata": {
  "kernelspec": {
   "display_name": "Python 3",
   "language": "python",
   "name": "python3"
  },
  "language_info": {
   "codemirror_mode": {
    "name": "ipython",
    "version": 3
   },
   "file_extension": ".py",
   "mimetype": "text/x-python",
   "name": "python",
   "nbconvert_exporter": "python",
   "pygments_lexer": "ipython3",
   "version": "3.8.8"
  }
 },
 "nbformat": 4,
 "nbformat_minor": 4
}
